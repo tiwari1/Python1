{
 "cells": [
  {
   "cell_type": "code",
   "execution_count": null,
   "id": "0e2bc881",
   "metadata": {},
   "outputs": [],
   "source": [
    "# Python\n",
    "# Interpreted language\n",
    "# python-->20 feb 1991\n",
    "# java-->1995\n",
    "# Guido Van Rossum\n",
    "# Case sensitive\n",
    "# easy to code"
   ]
  },
  {
   "cell_type": "code",
   "execution_count": null,
   "id": "c00227f2",
   "metadata": {},
   "outputs": [],
   "source": [
    "# Datatypes\n",
    "1. Integers-->-324356,23456,-345\n",
    "2. Float-->4354.54,-3456.345\n",
    "3. String-->'re54.45',\"egt566.456\",\"\"\"tgy5665.65\"\"\"\n",
    "4. Boolean-->True,False"
   ]
  },
  {
   "cell_type": "code",
   "execution_count": null,
   "id": "d54600de",
   "metadata": {},
   "outputs": [],
   "source": [
    "x,X\n"
   ]
  },
  {
   "cell_type": "code",
   "execution_count": 1,
   "id": "d9a68a50",
   "metadata": {},
   "outputs": [
    {
     "data": {
      "text/plain": [
       "'esgf\\ndrht\\ngrht'"
      ]
     },
     "execution_count": 1,
     "metadata": {},
     "output_type": "execute_result"
    }
   ],
   "source": [
    "x=\"\"\"esgf\n",
    "drht\n",
    "grht\"\"\"\n",
    "x"
   ]
  },
  {
   "cell_type": "code",
   "execution_count": 3,
   "id": "0d3f1b57",
   "metadata": {},
   "outputs": [
    {
     "data": {
      "text/plain": [
       "\"don't\""
      ]
     },
     "execution_count": 3,
     "metadata": {},
     "output_type": "execute_result"
    }
   ],
   "source": [
    "x=\"don't\"\n",
    "x"
   ]
  },
  {
   "cell_type": "code",
   "execution_count": 2,
   "id": "3318f349",
   "metadata": {},
   "outputs": [
    {
     "data": {
      "text/plain": [
       "'waefjkbewk78348'"
      ]
     },
     "execution_count": 2,
     "metadata": {},
     "output_type": "execute_result"
    }
   ],
   "source": [
    "x=\"\"\"waefjkbewk78348\"\"\"\n",
    "x"
   ]
  },
  {
   "cell_type": "code",
   "execution_count": 4,
   "id": "02ea18cb",
   "metadata": {},
   "outputs": [
    {
     "data": {
      "text/plain": [
       "234"
      ]
     },
     "execution_count": 4,
     "metadata": {},
     "output_type": "execute_result"
    }
   ],
   "source": [
    "# Variables\n",
    "x=234\n",
    "x"
   ]
  },
  {
   "cell_type": "code",
   "execution_count": 5,
   "id": "d43b1ea7",
   "metadata": {},
   "outputs": [
    {
     "data": {
      "text/plain": [
       "43565"
      ]
     },
     "execution_count": 5,
     "metadata": {},
     "output_type": "execute_result"
    }
   ],
   "source": [
    "x10=43565\n",
    "x10"
   ]
  },
  {
   "cell_type": "code",
   "execution_count": 6,
   "id": "623b28ea",
   "metadata": {},
   "outputs": [
    {
     "data": {
      "text/plain": [
       "23456.435"
      ]
     },
     "execution_count": 6,
     "metadata": {},
     "output_type": "execute_result"
    }
   ],
   "source": [
    "# _ # semi private variable\n",
    "_a_12_=23456.435\n",
    "_a_12_"
   ]
  },
  {
   "cell_type": "code",
   "execution_count": 7,
   "id": "0f3ca444",
   "metadata": {},
   "outputs": [
    {
     "data": {
      "text/plain": [
       "3234"
      ]
     },
     "execution_count": 7,
     "metadata": {},
     "output_type": "execute_result"
    }
   ],
   "source": [
    "a__=3234 #private variable\n",
    "a__"
   ]
  },
  {
   "cell_type": "code",
   "execution_count": 8,
   "id": "febcaeda",
   "metadata": {},
   "outputs": [
    {
     "data": {
      "text/plain": [
       "234.43"
      ]
     },
     "execution_count": 8,
     "metadata": {},
     "output_type": "execute_result"
    }
   ],
   "source": [
    "python_core=234.43\n",
    "python_core"
   ]
  },
  {
   "cell_type": "code",
   "execution_count": 9,
   "id": "8c06c8a8",
   "metadata": {},
   "outputs": [
    {
     "name": "stdout",
     "output_type": "stream",
     "text": [
      "<class 'str'>\n"
     ]
    }
   ],
   "source": [
    "x='43546.657'\n",
    "print(type(x))"
   ]
  },
  {
   "cell_type": "code",
   "execution_count": 10,
   "id": "39c2a7ef",
   "metadata": {},
   "outputs": [
    {
     "name": "stdout",
     "output_type": "stream",
     "text": [
      "<class 'str'>\n"
     ]
    }
   ],
   "source": [
    "x=\"34546\"\n",
    "print(type(x))"
   ]
  },
  {
   "cell_type": "code",
   "execution_count": 11,
   "id": "1160ebc3",
   "metadata": {},
   "outputs": [
    {
     "name": "stdout",
     "output_type": "stream",
     "text": [
      "<class 'float'>\n"
     ]
    }
   ],
   "source": [
    "x=3245.45\n",
    "print(type(x))"
   ]
  },
  {
   "cell_type": "code",
   "execution_count": 12,
   "id": "3c43862f",
   "metadata": {},
   "outputs": [
    {
     "name": "stdout",
     "output_type": "stream",
     "text": [
      "<class 'bool'>\n"
     ]
    }
   ],
   "source": [
    "x=True\n",
    "print(type(x)) # Error--> name 'true' is not defined"
   ]
  },
  {
   "cell_type": "code",
   "execution_count": 13,
   "id": "3c85895f",
   "metadata": {},
   "outputs": [],
   "source": [
    "# print('hello') #jsehbfksjrbg\n",
    "# --> comments"
   ]
  },
  {
   "cell_type": "code",
   "execution_count": 14,
   "id": "ea8ca13d",
   "metadata": {},
   "outputs": [
    {
     "data": {
      "text/plain": [
       "100"
      ]
     },
     "execution_count": 14,
     "metadata": {},
     "output_type": "execute_result"
    }
   ],
   "source": [
    "a=100\n",
    "a"
   ]
  },
  {
   "cell_type": "code",
   "execution_count": 15,
   "id": "7cd22f56",
   "metadata": {},
   "outputs": [
    {
     "name": "stdout",
     "output_type": "stream",
     "text": [
      "101\n"
     ]
    }
   ],
   "source": [
    "a=101\n",
    "print(a)"
   ]
  },
  {
   "cell_type": "code",
   "execution_count": 16,
   "id": "74dcc614",
   "metadata": {},
   "outputs": [
    {
     "data": {
      "text/plain": [
       "100"
      ]
     },
     "execution_count": 16,
     "metadata": {},
     "output_type": "execute_result"
    }
   ],
   "source": [
    "a=100\n",
    "b=200\n",
    "b\n",
    "a"
   ]
  },
  {
   "cell_type": "code",
   "execution_count": 17,
   "id": "363611da",
   "metadata": {},
   "outputs": [
    {
     "name": "stdout",
     "output_type": "stream",
     "text": [
      "200\n",
      "100\n"
     ]
    }
   ],
   "source": [
    "a=100\n",
    "b=200\n",
    "print(b)\n",
    "print(a)"
   ]
  },
  {
   "cell_type": "code",
   "execution_count": null,
   "id": "9ef152c4",
   "metadata": {},
   "outputs": [],
   "source": [
    "# Operatros\n",
    "1. Mthmtcl opertor\n",
    "2. logical opertor\n",
    "3. comparion opertor\n",
    "4. membership operator\n",
    "5. identity operator\n",
    "6. Bitwise opertor"
   ]
  },
  {
   "cell_type": "code",
   "execution_count": null,
   "id": "c518815b",
   "metadata": {},
   "outputs": [],
   "source": [
    "# Mathmeticl operators\n",
    "1. Addition(+)\n",
    "2. Subtraction(-)\n",
    "3. Multipliucation(*)\n",
    "4. Division(/)\n",
    "5. Modulas(%)\n",
    "6. floor division(//)\n",
    "7. Exponent(**)"
   ]
  },
  {
   "cell_type": "code",
   "execution_count": 18,
   "id": "7cf2f70d",
   "metadata": {},
   "outputs": [
    {
     "data": {
      "text/plain": [
       "5"
      ]
     },
     "execution_count": 18,
     "metadata": {},
     "output_type": "execute_result"
    }
   ],
   "source": [
    "3+2"
   ]
  },
  {
   "cell_type": "code",
   "execution_count": 19,
   "id": "9cf2cee5",
   "metadata": {},
   "outputs": [
    {
     "data": {
      "text/plain": [
       "1"
      ]
     },
     "execution_count": 19,
     "metadata": {},
     "output_type": "execute_result"
    }
   ],
   "source": [
    "3-2"
   ]
  },
  {
   "cell_type": "code",
   "execution_count": 20,
   "id": "fdf8fce8",
   "metadata": {},
   "outputs": [
    {
     "data": {
      "text/plain": [
       "6"
      ]
     },
     "execution_count": 20,
     "metadata": {},
     "output_type": "execute_result"
    }
   ],
   "source": [
    "3*2"
   ]
  },
  {
   "cell_type": "code",
   "execution_count": 21,
   "id": "a24117ac",
   "metadata": {},
   "outputs": [
    {
     "data": {
      "text/plain": [
       "1.5"
      ]
     },
     "execution_count": 21,
     "metadata": {},
     "output_type": "execute_result"
    }
   ],
   "source": [
    "3/2"
   ]
  },
  {
   "cell_type": "code",
   "execution_count": 22,
   "id": "c1a7b55c",
   "metadata": {},
   "outputs": [
    {
     "data": {
      "text/plain": [
       "1"
      ]
     },
     "execution_count": 22,
     "metadata": {},
     "output_type": "execute_result"
    }
   ],
   "source": [
    "# Modulas(%)\n",
    "10%3"
   ]
  },
  {
   "cell_type": "code",
   "execution_count": 23,
   "id": "35ffde8e",
   "metadata": {},
   "outputs": [
    {
     "data": {
      "text/plain": [
       "9"
      ]
     },
     "execution_count": 23,
     "metadata": {},
     "output_type": "execute_result"
    }
   ],
   "source": [
    "79%10"
   ]
  },
  {
   "cell_type": "code",
   "execution_count": 24,
   "id": "e1c3dc13",
   "metadata": {},
   "outputs": [
    {
     "data": {
      "text/plain": [
       "3"
      ]
     },
     "execution_count": 24,
     "metadata": {},
     "output_type": "execute_result"
    }
   ],
   "source": [
    "# Floor division(//)\n",
    "10//3"
   ]
  },
  {
   "cell_type": "code",
   "execution_count": 25,
   "id": "7c51e8b2",
   "metadata": {},
   "outputs": [
    {
     "data": {
      "text/plain": [
       "7"
      ]
     },
     "execution_count": 25,
     "metadata": {},
     "output_type": "execute_result"
    }
   ],
   "source": [
    "79//10"
   ]
  },
  {
   "cell_type": "code",
   "execution_count": 26,
   "id": "eef2237d",
   "metadata": {},
   "outputs": [
    {
     "data": {
      "text/plain": [
       "128"
      ]
     },
     "execution_count": 26,
     "metadata": {},
     "output_type": "execute_result"
    }
   ],
   "source": [
    "# Exponent(**)\n",
    "2**7 #2*2*2*2*2*2*2"
   ]
  },
  {
   "cell_type": "code",
   "execution_count": 27,
   "id": "9627c39e",
   "metadata": {},
   "outputs": [
    {
     "name": "stdout",
     "output_type": "stream",
     "text": [
      "2\n"
     ]
    }
   ],
   "source": [
    "a=12 #b=2\n",
    "b=a%10 #b=12%10-->2\n",
    "print(b)"
   ]
  },
  {
   "cell_type": "code",
   "execution_count": 28,
   "id": "6845b7e8",
   "metadata": {},
   "outputs": [
    {
     "name": "stdout",
     "output_type": "stream",
     "text": [
      "9\n"
     ]
    }
   ],
   "source": [
    "# Modulas(%)\n",
    "# Floor Division(//)\n",
    "\n",
    "x=79 #y=9\n",
    "y=x%10 #y=79%10-->9\n",
    "print(y)"
   ]
  },
  {
   "cell_type": "code",
   "execution_count": 29,
   "id": "78ffb3a0",
   "metadata": {},
   "outputs": [
    {
     "name": "stdout",
     "output_type": "stream",
     "text": [
      "3\n",
      "2\n"
     ]
    }
   ],
   "source": [
    "x=123 #y=3 #z=2\n",
    "y=x%10 #y=123%10-->3\n",
    "x=x//10 #x=123//10-->12\n",
    "z=x%10 #z=12%10-->2\n",
    "print(y)\n",
    "print(z)"
   ]
  },
  {
   "cell_type": "code",
   "execution_count": 32,
   "id": "ca5b2088",
   "metadata": {},
   "outputs": [
    {
     "name": "stdout",
     "output_type": "stream",
     "text": [
      "5\n",
      "4\n",
      "3\n",
      "2\n"
     ]
    }
   ],
   "source": [
    "x=2345\n",
    "y=x%10\n",
    "x=x//10\n",
    "a=x%10\n",
    "x=x//10\n",
    "b=x%10\n",
    "x=x//10\n",
    "c=x%10\n",
    "print(y)\n",
    "print(a)\n",
    "print(b)\n",
    "print(c)\n",
    "# y=5 a=4 b=3 c=2"
   ]
  },
  {
   "cell_type": "code",
   "execution_count": null,
   "id": "1b25ccf7",
   "metadata": {},
   "outputs": [],
   "source": [
    "# Comparision operator\n",
    "1. >(greater thn)\n",
    "2. <(less thn)\n",
    "3. >=(grthr thn equls)\n",
    "4. <=(less thn equls)\n",
    "5. ==(equls equls)\n",
    "6. !=(Not equls)"
   ]
  },
  {
   "cell_type": "code",
   "execution_count": 33,
   "id": "24a88d75",
   "metadata": {},
   "outputs": [
    {
     "name": "stdout",
     "output_type": "stream",
     "text": [
      "False\n"
     ]
    }
   ],
   "source": [
    "print( 7 > 8 ) # False"
   ]
  },
  {
   "cell_type": "code",
   "execution_count": 34,
   "id": "0063173c",
   "metadata": {},
   "outputs": [
    {
     "name": "stdout",
     "output_type": "stream",
     "text": [
      "True\n"
     ]
    }
   ],
   "source": [
    "print( 8 < 9 ) # True\n"
   ]
  },
  {
   "cell_type": "code",
   "execution_count": 35,
   "id": "af2e26d1",
   "metadata": {},
   "outputs": [
    {
     "name": "stdout",
     "output_type": "stream",
     "text": [
      "True\n"
     ]
    }
   ],
   "source": [
    "# <=,>=\n",
    "print( 7 >= 6 ) #True"
   ]
  },
  {
   "cell_type": "code",
   "execution_count": 36,
   "id": "9759f521",
   "metadata": {},
   "outputs": [
    {
     "name": "stdout",
     "output_type": "stream",
     "text": [
      "False\n"
     ]
    }
   ],
   "source": [
    "print( 7 >= 8 ) # False"
   ]
  },
  {
   "cell_type": "code",
   "execution_count": 37,
   "id": "26cd7bed",
   "metadata": {},
   "outputs": [
    {
     "name": "stdout",
     "output_type": "stream",
     "text": [
      "True\n"
     ]
    }
   ],
   "source": [
    "print( 8 <= 9 ) # True"
   ]
  },
  {
   "cell_type": "code",
   "execution_count": 38,
   "id": "82fb6cce",
   "metadata": {},
   "outputs": [
    {
     "name": "stdout",
     "output_type": "stream",
     "text": [
      "False\n"
     ]
    }
   ],
   "source": [
    "print( 8 <= 5 ) # False"
   ]
  },
  {
   "cell_type": "code",
   "execution_count": 39,
   "id": "18606fce",
   "metadata": {},
   "outputs": [
    {
     "name": "stdout",
     "output_type": "stream",
     "text": [
      "False\n"
     ]
    }
   ],
   "source": [
    "print( 8 == 9 ) # False"
   ]
  },
  {
   "cell_type": "code",
   "execution_count": 40,
   "id": "4b5ec53c",
   "metadata": {},
   "outputs": [
    {
     "name": "stdout",
     "output_type": "stream",
     "text": [
      "True\n"
     ]
    }
   ],
   "source": [
    "print( 7 == 7 ) # True"
   ]
  },
  {
   "cell_type": "code",
   "execution_count": 41,
   "id": "855520fb",
   "metadata": {},
   "outputs": [
    {
     "name": "stdout",
     "output_type": "stream",
     "text": [
      "True\n"
     ]
    }
   ],
   "source": [
    "print( 8 != 9 ) # True"
   ]
  },
  {
   "cell_type": "code",
   "execution_count": 42,
   "id": "49a60df9",
   "metadata": {},
   "outputs": [
    {
     "name": "stdout",
     "output_type": "stream",
     "text": [
      "False\n"
     ]
    }
   ],
   "source": [
    "print( 9 != 9 ) # False"
   ]
  },
  {
   "cell_type": "code",
   "execution_count": null,
   "id": "b5de6d0b",
   "metadata": {},
   "outputs": [],
   "source": [
    "# Logical Operators\n",
    "1. and\n",
    "2. or \n",
    "3. not"
   ]
  },
  {
   "cell_type": "code",
   "execution_count": 43,
   "id": "2dc7a8d2",
   "metadata": {},
   "outputs": [
    {
     "name": "stdout",
     "output_type": "stream",
     "text": [
      "False\n"
     ]
    }
   ],
   "source": [
    "# and\n",
    "print( 7>6 and 7<3 ) # True and False-->False"
   ]
  },
  {
   "cell_type": "code",
   "execution_count": 44,
   "id": "1c61304a",
   "metadata": {},
   "outputs": [
    {
     "name": "stdout",
     "output_type": "stream",
     "text": [
      "True\n"
     ]
    }
   ],
   "source": [
    "print( 7>6 and 7<9 ) #True and True--> True"
   ]
  },
  {
   "cell_type": "code",
   "execution_count": 45,
   "id": "47fbecd9",
   "metadata": {},
   "outputs": [
    {
     "name": "stdout",
     "output_type": "stream",
     "text": [
      "False\n"
     ]
    }
   ],
   "source": [
    "# or\n",
    "print( 5>7 or 5<4 ) #False or False-->False"
   ]
  },
  {
   "cell_type": "code",
   "execution_count": 46,
   "id": "ab48c689",
   "metadata": {},
   "outputs": [
    {
     "name": "stdout",
     "output_type": "stream",
     "text": [
      "True\n"
     ]
    }
   ],
   "source": [
    "print( 5>7 or 5>4 ) #False or True --> True"
   ]
  },
  {
   "cell_type": "code",
   "execution_count": 47,
   "id": "a6c3d3d9",
   "metadata": {},
   "outputs": [
    {
     "name": "stdout",
     "output_type": "stream",
     "text": [
      "False\n"
     ]
    }
   ],
   "source": [
    "# not\n",
    "print(not( 3>2 and 7<8 )) # True and True --> False"
   ]
  },
  {
   "cell_type": "code",
   "execution_count": 48,
   "id": "0cb4d976",
   "metadata": {},
   "outputs": [
    {
     "name": "stdout",
     "output_type": "stream",
     "text": [
      "False\n"
     ]
    }
   ],
   "source": [
    "print(not( 8<7 or 9>7 )) #False or True -->T-->False"
   ]
  },
  {
   "cell_type": "code",
   "execution_count": 49,
   "id": "fe6d60e8",
   "metadata": {},
   "outputs": [
    {
     "name": "stdout",
     "output_type": "stream",
     "text": [
      "9\n",
      "8\n",
      "7\n",
      "6\n",
      "5\n",
      "4\n",
      "3\n",
      "2\n",
      "1\n"
     ]
    }
   ],
   "source": [
    "#find % and // of a 9 digit number\n",
    "#let no. be 123456789\n",
    "x=123456789\n",
    "y=x%10\n",
    "x=x//10\n",
    "z=x%10\n",
    "x=x//10\n",
    "a=x%10\n",
    "x=x//10\n",
    "b=x%10\n",
    "x=x//10\n",
    "c=x%10\n",
    "x=x//10\n",
    "d=x%10\n",
    "x=x//10\n",
    "e=x%10\n",
    "x=x//10\n",
    "f=x%10\n",
    "x=x//10\n",
    "g=x%10\n",
    "print(y)\n",
    "print(z)\n",
    "print(a)\n",
    "print(b)\n",
    "print(c)\n",
    "print(d)\n",
    "print(e)\n",
    "print(f)\n",
    "print(g)"
   ]
  },
  {
   "cell_type": "code",
   "execution_count": null,
   "id": "5a74557c",
   "metadata": {},
   "outputs": [],
   "source": []
  },
  {
   "cell_type": "code",
   "execution_count": null,
   "id": "30e19dde",
   "metadata": {},
   "outputs": [],
   "source": []
  },
  {
   "cell_type": "code",
   "execution_count": null,
   "id": "77f0eaf7",
   "metadata": {},
   "outputs": [],
   "source": []
  },
  {
   "cell_type": "code",
   "execution_count": null,
   "id": "524ebc80",
   "metadata": {},
   "outputs": [],
   "source": []
  },
  {
   "cell_type": "code",
   "execution_count": null,
   "id": "bf372ab4",
   "metadata": {},
   "outputs": [],
   "source": []
  },
  {
   "cell_type": "code",
   "execution_count": null,
   "id": "95ad4626",
   "metadata": {},
   "outputs": [],
   "source": []
  },
  {
   "cell_type": "code",
   "execution_count": null,
   "id": "6171f6aa",
   "metadata": {},
   "outputs": [],
   "source": []
  },
  {
   "cell_type": "code",
   "execution_count": null,
   "id": "5200307c",
   "metadata": {},
   "outputs": [],
   "source": []
  }
 ],
 "metadata": {
  "kernelspec": {
   "display_name": "Python 3",
   "language": "python",
   "name": "python3"
  },
  "language_info": {
   "codemirror_mode": {
    "name": "ipython",
    "version": 3
   },
   "file_extension": ".py",
   "mimetype": "text/x-python",
   "name": "python",
   "nbconvert_exporter": "python",
   "pygments_lexer": "ipython3",
   "version": "3.8.8"
  }
 },
 "nbformat": 4,
 "nbformat_minor": 5
}
